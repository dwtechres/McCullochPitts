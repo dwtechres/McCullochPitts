{
  "nbformat": 4,
  "nbformat_minor": 0,
  "metadata": {
    "colab": {
      "provenance": [],
      "authorship_tag": "ABX9TyMsGoqd4sGRIuI4M6o4d6Ml",
      "include_colab_link": true
    },
    "kernelspec": {
      "name": "python3",
      "display_name": "Python 3"
    },
    "language_info": {
      "name": "python"
    }
  },
  "cells": [
    {
      "cell_type": "markdown",
      "metadata": {
        "id": "view-in-github",
        "colab_type": "text"
      },
      "source": [
        "<a href=\"https://colab.research.google.com/github/dwtechres/McCullochPitts/blob/main/and.ipynb\" target=\"_parent\"><img src=\"https://colab.research.google.com/assets/colab-badge.svg\" alt=\"Open In Colab\"/></a>"
      ]
    },
    {
      "cell_type": "code",
      "execution_count": 1,
      "metadata": {
        "colab": {
          "base_uri": "https://localhost:8080/",
          "height": 374
        },
        "id": "va56siFjkH7z",
        "outputId": "85ae3a2d-38d1-4581-b2ff-0ef35e839532"
      },
      "outputs": [
        {
          "output_type": "error",
          "ename": "ModuleNotFoundError",
          "evalue": "ignored",
          "traceback": [
            "\u001b[0;31m---------------------------------------------------------------------------\u001b[0m",
            "\u001b[0;31mModuleNotFoundError\u001b[0m                       Traceback (most recent call last)",
            "\u001b[0;32m<ipython-input-1-29eab5b3629d>\u001b[0m in \u001b[0;36m<cell line: 3>\u001b[0;34m()\u001b[0m\n\u001b[1;32m      1\u001b[0m \u001b[0;32mimport\u001b[0m \u001b[0mtensorflow\u001b[0m\u001b[0;34m\u001b[0m\u001b[0;34m\u001b[0m\u001b[0m\n\u001b[1;32m      2\u001b[0m \u001b[0;32mimport\u001b[0m \u001b[0mnumpy\u001b[0m\u001b[0;34m\u001b[0m\u001b[0;34m\u001b[0m\u001b[0m\n\u001b[0;32m----> 3\u001b[0;31m \u001b[0;32mimport\u001b[0m \u001b[0mmodel\u001b[0m\u001b[0;34m\u001b[0m\u001b[0;34m\u001b[0m\u001b[0m\n\u001b[0m\u001b[1;32m      4\u001b[0m \u001b[0;34m\u001b[0m\u001b[0m\n\u001b[1;32m      5\u001b[0m \u001b[0;32mif\u001b[0m \u001b[0m__name__\u001b[0m \u001b[0;34m==\u001b[0m \u001b[0;34m\"__main__\"\u001b[0m\u001b[0;34m:\u001b[0m\u001b[0;34m\u001b[0m\u001b[0;34m\u001b[0m\u001b[0m\n",
            "\u001b[0;31mModuleNotFoundError\u001b[0m: No module named 'model'",
            "",
            "\u001b[0;31m---------------------------------------------------------------------------\u001b[0;32m\nNOTE: If your import is failing due to a missing package, you can\nmanually install dependencies using either !pip or !apt.\n\nTo view examples of installing some common dependencies, click the\n\"Open Examples\" button below.\n\u001b[0;31m---------------------------------------------------------------------------\u001b[0m\n"
          ],
          "errorDetails": {
            "actions": [
              {
                "action": "open_url",
                "actionText": "Open Examples",
                "url": "/notebooks/snippets/importing_libraries.ipynb"
              }
            ]
          }
        }
      ],
      "source": [
        "import tensorflow\n",
        "import numpy\n",
        "import model\n",
        "\n",
        "if __name__ == \"__main__\":\n",
        "\t# Define the input data (x_train) and corresponding output labels (y_train) for the AND function\n",
        "\tx_train = numpy.array([[0, 0], [0, 1], [1, 0], [1, 1]], dtype=numpy.float32)\n",
        "\ty_train = numpy.array([[0], [0], [0], [1]], dtype=numpy.float32)\n",
        "\n",
        "\t# Define the weights for the McCullochPitts layer\n",
        "\tweights = numpy.array([[1], [1]], dtype=numpy.float32)\n",
        "\n",
        "\tinput = tensorflow.keras.Input(shape=(2,))\n",
        "\tmcp = model.McCullochPitts(units=1, theta=2, weights=weights)(input)\n",
        "\tmodel = tensorflow.keras.Model(inputs=input, outputs=mcp)\n",
        "\n",
        "\t# Compile and train the model\n",
        "\tmodel.compile( loss='mse' )\n",
        "\tmodel.summary()\n",
        "\n",
        "\ttensorflow.keras.utils.plot_model(\n",
        "\tmodel,\n",
        "\tto_file = \"model.png\",\n",
        "\tshow_shapes = True,\n",
        "\tshow_dtype = True,\n",
        "\tshow_layer_names = True,\n",
        "\trankdir = 'TB',\n",
        "\texpand_nested = True,\n",
        "\tdpi = 96,\n",
        "\tlayer_range = None\n",
        "\t)\n",
        "\n",
        "\tmodel.fit(x_train, y_train, epochs=1, batch_size=4)\n",
        "\n",
        "\tpredict = model.predict(x_train)\n",
        "\n",
        "\tfor index, element in enumerate(x_train):\n",
        "\t\tprint(f\"input: {element} output: {predict[index]}\")"
      ]
    },
    {
      "cell_type": "code",
      "source": [
        "from google.colab import drive\n",
        "drive.mount('/content/drive')"
      ],
      "metadata": {
        "id": "5DRoSeH1kjMt"
      },
      "execution_count": null,
      "outputs": []
    },
    {
      "cell_type": "markdown",
      "source": [
        "# New Section"
      ],
      "metadata": {
        "id": "vX0BYxUMksBV"
      }
    }
  ]
}